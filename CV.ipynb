{
 "cells": [
  {
   "cell_type": "markdown",
   "id": "4a7409b6-3286-49e7-b2d8-2bdee346414e",
   "metadata": {},
   "source": [
    "# Computer Vision - is a branch of AI that helps computers to interprest and understand images information."
   ]
  },
  {
   "cell_type": "markdown",
   "id": "1151bc70-a4cf-42d9-a5b3-98d328aabdd7",
   "metadata": {},
   "source": [
    "# IMAGE PREPROCESSING, OBJECT DETECTION, FEATURE EXTRACTION, IMAGE SEGMENTATION"
   ]
  },
  {
   "cell_type": "code",
   "execution_count": 3,
   "id": "b9da7b50-3405-43dd-ab0b-155d6d71fce0",
   "metadata": {},
   "outputs": [],
   "source": [
    "import cv2"
   ]
  },
  {
   "cell_type": "code",
   "execution_count": 6,
   "id": "e06745ca-74ec-49fd-9261-9343dd2c2295",
   "metadata": {},
   "outputs": [],
   "source": [
    "img=cv2.imread(r\"C:\\Users\\cheta\\Downloads\\ant.jpg\")\n",
    "cv2.imshow('My Image', img)\n",
    "cv2.waitKey(0)\n",
    "cv2.destroyAllWindows()"
   ]
  },
  {
   "cell_type": "markdown",
   "id": "02c51815-4db8-4807-be5c-3784cdb260a3",
   "metadata": {},
   "source": [
    "# gray image"
   ]
  },
  {
   "cell_type": "code",
   "execution_count": 7,
   "id": "4403188c-6c01-4ee1-8b3f-e7f7ad6a649a",
   "metadata": {},
   "outputs": [],
   "source": [
    "gray=cv2.cvtColor(img,cv2.COLOR_BGR2GRAY)"
   ]
  },
  {
   "cell_type": "code",
   "execution_count": 8,
   "id": "1d400543-be2d-4a9e-8ae0-2edfce38bf98",
   "metadata": {},
   "outputs": [],
   "source": [
    "cv2.imshow('gray image',gray)\n",
    "cv2.waitKey(0)\n",
    "cv2.destroyAllWindows()"
   ]
  },
  {
   "cell_type": "markdown",
   "id": "4d749009-9256-479e-abf2-5919b53957c1",
   "metadata": {},
   "source": [
    "# RESIZING AN IMAGE "
   ]
  },
  {
   "cell_type": "code",
   "execution_count": 9,
   "id": "f192385b-5210-48c5-8c0d-a74d9d9716cf",
   "metadata": {},
   "outputs": [
    {
     "data": {
      "text/plain": [
       "True"
      ]
     },
     "execution_count": 9,
     "metadata": {},
     "output_type": "execute_result"
    }
   ],
   "source": [
    "resized=cv2.resize(img,(400,300))\n",
    "cv2.imwrite('resized_image.jpg',resized)"
   ]
  },
  {
   "cell_type": "markdown",
   "id": "f42bdebd-bbb3-4458-b455-ee0b17957773",
   "metadata": {},
   "source": [
    "# thresholding-Binarization"
   ]
  },
  {
   "cell_type": "code",
   "execution_count": 12,
   "id": "45a106fa-785b-4a3c-a236-a44a34012bc8",
   "metadata": {},
   "outputs": [],
   "source": [
    "gray=cv2.cvtColor(img,cv2.COLOR_BGR2GRAY)"
   ]
  },
  {
   "cell_type": "code",
   "execution_count": 13,
   "id": "c5695d93-670f-4067-bca5-dad5dd37dd32",
   "metadata": {},
   "outputs": [],
   "source": [
    "res,thresh =cv2.threshold(gray, 127,255,cv2.THRESH_BINARY)"
   ]
  },
  {
   "cell_type": "code",
   "execution_count": 14,
   "id": "649ea582-6b2b-42bb-b715-8af24e928c1d",
   "metadata": {},
   "outputs": [
    {
     "name": "stdout",
     "output_type": "stream",
     "text": [
      "[[255 255 255 ...   0   0   0]\n",
      " [255 255 255 ...   0   0   0]\n",
      " [255 255 255 ...   0   0   0]\n",
      " ...\n",
      " [255 255 255 ...   0   0   0]\n",
      " [255 255 255 ...   0   0   0]\n",
      " [255 255 255 ...   0   0   0]]\n"
     ]
    }
   ],
   "source": [
    "print(thresh)"
   ]
  },
  {
   "cell_type": "code",
   "execution_count": null,
   "id": "4fca62a3-4b0f-48aa-9aa5-a52c57a4b66f",
   "metadata": {},
   "outputs": [],
   "source": [
    "cv2.imshow(\"threshold\",thresh)\n",
    "cv2.waitKey(0)\n",
    "cv2.destroyAllWindows()"
   ]
  },
  {
   "cell_type": "code",
   "execution_count": null,
   "id": "2215eceb-0a7a-4b45-9a89-4cda5efce1df",
   "metadata": {},
   "outputs": [],
   "source": []
  }
 ],
 "metadata": {
  "kernelspec": {
   "display_name": "Python 3 (ipykernel)",
   "language": "python",
   "name": "python3"
  },
  "language_info": {
   "codemirror_mode": {
    "name": "ipython",
    "version": 3
   },
   "file_extension": ".py",
   "mimetype": "text/x-python",
   "name": "python",
   "nbconvert_exporter": "python",
   "pygments_lexer": "ipython3",
   "version": "3.13.5"
  }
 },
 "nbformat": 4,
 "nbformat_minor": 5
}
