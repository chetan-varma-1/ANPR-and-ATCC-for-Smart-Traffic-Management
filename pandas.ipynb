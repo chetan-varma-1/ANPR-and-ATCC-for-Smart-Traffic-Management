{
 "cells": [
  {
   "cell_type": "markdown",
   "id": "b2808739-267a-4f26-b7a6-c38303ca8cfb",
   "metadata": {},
   "source": [
    "# dataframe-2d labelled datastructure which resembles table"
   ]
  },
  {
   "cell_type": "code",
   "execution_count": 1,
   "id": "7ebc3517-7bc1-49a2-a7c2-ca88f25f9628",
   "metadata": {},
   "outputs": [],
   "source": [
    "import pandas as pd"
   ]
  },
  {
   "cell_type": "code",
   "execution_count": 4,
   "id": "3b84914b-a6c0-4bbb-857d-1830e6785ca3",
   "metadata": {},
   "outputs": [],
   "source": [
    "d={'1':['a','b','c'],\n",
    "'2':['e','f','g']}"
   ]
  },
  {
   "cell_type": "code",
   "execution_count": 5,
   "id": "4d8babd6-81f8-4c4d-a1d8-5116b6f923df",
   "metadata": {},
   "outputs": [],
   "source": [
    "df=pd.DataFrame(d)"
   ]
  },
  {
   "cell_type": "code",
   "execution_count": 6,
   "id": "db4b2169-5f16-48c1-bb70-a40b39a757d7",
   "metadata": {},
   "outputs": [
    {
     "name": "stdout",
     "output_type": "stream",
     "text": [
      "   1  2\n",
      "0  a  e\n",
      "1  b  f\n",
      "2  c  g\n"
     ]
    }
   ],
   "source": [
    "print(df)"
   ]
  },
  {
   "cell_type": "markdown",
   "id": "d8fbc18d-d887-41fe-af77-d306a3164a01",
   "metadata": {},
   "source": [
    "# series-single dimensional labelled array"
   ]
  },
  {
   "cell_type": "code",
   "execution_count": 7,
   "id": "c19ee66c-0e86-4409-80fd-6b29f2914442",
   "metadata": {},
   "outputs": [],
   "source": [
    "l=[1,2,3,4]"
   ]
  },
  {
   "cell_type": "code",
   "execution_count": 8,
   "id": "99b30c9f-2516-40df-b3f0-0447bf24715f",
   "metadata": {},
   "outputs": [],
   "source": [
    "se=pd.Series(l)"
   ]
  },
  {
   "cell_type": "code",
   "execution_count": 10,
   "id": "154cda34-32e3-451e-a72b-37ffa38a6e20",
   "metadata": {},
   "outputs": [
    {
     "name": "stdout",
     "output_type": "stream",
     "text": [
      "0    1\n",
      "1    2\n",
      "2    3\n",
      "3    4\n",
      "dtype: int64\n"
     ]
    }
   ],
   "source": [
    "print(se)"
   ]
  },
  {
   "cell_type": "code",
   "execution_count": 12,
   "id": "2368acff-ae35-45dc-b6a0-e302b3f72dce",
   "metadata": {},
   "outputs": [
    {
     "name": "stdout",
     "output_type": "stream",
     "text": [
      "<class 'pandas.core.series.Series'>\n"
     ]
    }
   ],
   "source": [
    "print(type(se))"
   ]
  },
  {
   "cell_type": "code",
   "execution_count": 13,
   "id": "25103e8c-0f61-4902-aeb6-1c5d7400876d",
   "metadata": {},
   "outputs": [],
   "source": [
    "d1={1:[1,2,3],2:[4,5,6]}"
   ]
  },
  {
   "cell_type": "code",
   "execution_count": 17,
   "id": "3ea4b402-6815-4f5d-b918-518df8cbf169",
   "metadata": {},
   "outputs": [],
   "source": [
    "df1=pd.DataFrame(d1,index=['a','b','c'])"
   ]
  },
  {
   "cell_type": "code",
   "execution_count": 18,
   "id": "35851902-81f8-42b3-a4e6-b6f3af88e9c4",
   "metadata": {},
   "outputs": [
    {
     "name": "stdout",
     "output_type": "stream",
     "text": [
      "   1  2\n",
      "a  1  4\n",
      "b  2  5\n",
      "c  3  6\n"
     ]
    }
   ],
   "source": [
    "print(df1)"
   ]
  },
  {
   "cell_type": "code",
   "execution_count": 19,
   "id": "881329b1-3eba-41e7-b4e2-9e84173f4fee",
   "metadata": {},
   "outputs": [],
   "source": [
    "d={'1':['a','b','c'],\n",
    "'2':['e','f','g']}"
   ]
  },
  {
   "cell_type": "code",
   "execution_count": 20,
   "id": "bd762809-3600-42e3-adcb-7477d9322a1a",
   "metadata": {},
   "outputs": [],
   "source": [
    "df2=pd.DataFrame(d)"
   ]
  },
  {
   "cell_type": "code",
   "execution_count": 21,
   "id": "ac67859a-36e0-4240-aec1-fc5f0f49b67b",
   "metadata": {},
   "outputs": [
    {
     "name": "stdout",
     "output_type": "stream",
     "text": [
      "   1  2\n",
      "0  a  e\n",
      "1  b  f\n",
      "2  c  g\n"
     ]
    }
   ],
   "source": [
    "print(df2)"
   ]
  },
  {
   "cell_type": "code",
   "execution_count": 24,
   "id": "f10ce00a-f02c-415a-8a64-4a448740ed1d",
   "metadata": {},
   "outputs": [
    {
     "name": "stdout",
     "output_type": "stream",
     "text": [
      "f\n"
     ]
    },
    {
     "name": "stderr",
     "output_type": "stream",
     "text": [
      "C:\\Users\\cheta\\AppData\\Local\\Temp\\ipykernel_23580\\545985298.py:1: FutureWarning: Series.__getitem__ treating keys as positions is deprecated. In a future version, integer keys will always be treated as labels (consistent with DataFrame behavior). To access a value by position, use `ser.iloc[pos]`\n",
      "  print(df2.loc[1][1])\n"
     ]
    }
   ],
   "source": [
    "print(df2.loc[1][1])"
   ]
  },
  {
   "cell_type": "markdown",
   "id": "26a46270-3d5d-4df4-b6e3-0478b96050b5",
   "metadata": {},
   "source": [
    "# loc -label based indexing"
   ]
  },
  {
   "cell_type": "markdown",
   "id": "70792ff7-4e10-47fb-bafd-383a95c00b08",
   "metadata": {},
   "source": [
    "# iloc - position based indexing"
   ]
  },
  {
   "cell_type": "code",
   "execution_count": 26,
   "id": "828deece-2f36-435d-acb2-c2b964adcd0e",
   "metadata": {},
   "outputs": [],
   "source": [
    "df=pd.DataFrame({'a':[1,2,3],'b':[4,5,6]})"
   ]
  },
  {
   "cell_type": "code",
   "execution_count": 28,
   "id": "c8f9e837-ff01-4e95-8adb-3e41a54d5dab",
   "metadata": {},
   "outputs": [
    {
     "name": "stdout",
     "output_type": "stream",
     "text": [
      "   a  b\n",
      "0  1  4\n",
      "1  2  5\n",
      "2  3  6\n"
     ]
    }
   ],
   "source": [
    "print(df)"
   ]
  },
  {
   "cell_type": "code",
   "execution_count": 33,
   "id": "b7647cad-4ce9-4bda-aa07-fb7b2f31714c",
   "metadata": {},
   "outputs": [
    {
     "name": "stdout",
     "output_type": "stream",
     "text": [
      "1\n"
     ]
    }
   ],
   "source": [
    "print(df.loc[0]['a'])"
   ]
  },
  {
   "cell_type": "code",
   "execution_count": 57,
   "id": "edf74de5-f611-4f9c-915e-d801a1b74792",
   "metadata": {},
   "outputs": [],
   "source": [
    "df1=pd.DataFrame({'a':[1,2],'b':[3,4]},index=['a','b'])"
   ]
  },
  {
   "cell_type": "code",
   "execution_count": 58,
   "id": "5a70c2ba-e9b1-4b18-afc6-07a22f3244f9",
   "metadata": {},
   "outputs": [
    {
     "name": "stdout",
     "output_type": "stream",
     "text": [
      "   a  b\n",
      "a  1  3\n",
      "b  2  4\n"
     ]
    }
   ],
   "source": [
    "print(df1)"
   ]
  },
  {
   "cell_type": "code",
   "execution_count": 59,
   "id": "040b78a2-9607-4cb5-8d96-b65e0195a87d",
   "metadata": {},
   "outputs": [
    {
     "name": "stdout",
     "output_type": "stream",
     "text": [
      "3\n"
     ]
    },
    {
     "name": "stderr",
     "output_type": "stream",
     "text": [
      "C:\\Users\\cheta\\AppData\\Local\\Temp\\ipykernel_23580\\2786324782.py:1: FutureWarning: Series.__getitem__ treating keys as positions is deprecated. In a future version, integer keys will always be treated as labels (consistent with DataFrame behavior). To access a value by position, use `ser.iloc[pos]`\n",
      "  print(df1.iloc[0][1])\n"
     ]
    }
   ],
   "source": [
    "print(df1.iloc[0][1])"
   ]
  },
  {
   "cell_type": "code",
   "execution_count": 60,
   "id": "c60e3e83-f51f-48da-89d9-e1a173cb81b1",
   "metadata": {},
   "outputs": [
    {
     "name": "stdout",
     "output_type": "stream",
     "text": [
      "1\n"
     ]
    }
   ],
   "source": [
    "print(df1.loc['a']['a'])"
   ]
  },
  {
   "cell_type": "code",
   "execution_count": 77,
   "id": "ec5c5b45-6a4a-4bf3-b7da-fc5e8c9374d5",
   "metadata": {},
   "outputs": [],
   "source": [
    "df=pd.read_csv(r\"C:\\Users\\cheta\\Desktop\\machine-readable-business-employment-data-jun-2025-quarter.csv\")"
   ]
  },
  {
   "cell_type": "code",
   "execution_count": 78,
   "id": "b960a479-9db2-4fdd-b8ef-23a2274c434b",
   "metadata": {},
   "outputs": [
    {
     "name": "stdout",
     "output_type": "stream",
     "text": [
      "      Series_reference   Period  Data_value Suppressed STATUS   UNITS  \\\n",
      "0          BDCQ.SEA1AA  2011.06     80078.0        NaN      F  Number   \n",
      "1          BDCQ.SEA1AA  2011.09     78324.0        NaN      F  Number   \n",
      "2          BDCQ.SEA1AA  2011.12     85850.0        NaN      F  Number   \n",
      "3          BDCQ.SEA1AA  2012.03     90743.0        NaN      F  Number   \n",
      "4          BDCQ.SEA1AA  2012.06     81780.0        NaN      F  Number   \n",
      "...                ...      ...         ...        ...    ...     ...   \n",
      "24893    BDCQ.SEE3999A  2017.06         NaN          Y      F  Number   \n",
      "24894    BDCQ.SEE3999A  2017.09         NaN          Y      F  Number   \n",
      "24895    BDCQ.SEE3999A  2017.12         NaN          Y      F  Number   \n",
      "24896    BDCQ.SEE3999A  2018.03         NaN          Y      F  Number   \n",
      "24897    BDCQ.SEE3999A  2018.06         NaN          Y      F  Number   \n",
      "\n",
      "       Magnitude                         Subject  \\\n",
      "0              0  Business Data Collection - BDC   \n",
      "1              0  Business Data Collection - BDC   \n",
      "2              0  Business Data Collection - BDC   \n",
      "3              0  Business Data Collection - BDC   \n",
      "4              0  Business Data Collection - BDC   \n",
      "...          ...                             ...   \n",
      "24893          0  Business Data Collection - BDC   \n",
      "24894          0  Business Data Collection - BDC   \n",
      "24895          0  Business Data Collection - BDC   \n",
      "24896          0  Business Data Collection - BDC   \n",
      "24897          0  Business Data Collection - BDC   \n",
      "\n",
      "                                              Group  \\\n",
      "0                   Industry by employment variable   \n",
      "1                   Industry by employment variable   \n",
      "2                   Industry by employment variable   \n",
      "3                   Industry by employment variable   \n",
      "4                   Industry by employment variable   \n",
      "...                                             ...   \n",
      "24893  Territorial authority by employment variable   \n",
      "24894  Territorial authority by employment variable   \n",
      "24895  Territorial authority by employment variable   \n",
      "24896  Territorial authority by employment variable   \n",
      "24897  Territorial authority by employment variable   \n",
      "\n",
      "                               Series_title_1  \\\n",
      "0                                 Filled jobs   \n",
      "1                                 Filled jobs   \n",
      "2                                 Filled jobs   \n",
      "3                                 Filled jobs   \n",
      "4                                 Filled jobs   \n",
      "...                                       ...   \n",
      "24893  Filled jobs (workplace location based)   \n",
      "24894  Filled jobs (workplace location based)   \n",
      "24895  Filled jobs (workplace location based)   \n",
      "24896  Filled jobs (workplace location based)   \n",
      "24897  Filled jobs (workplace location based)   \n",
      "\n",
      "                           Series_title_2 Series_title_3  Series_title_4  \\\n",
      "0       Agriculture, Forestry and Fishing         Actual             NaN   \n",
      "1       Agriculture, Forestry and Fishing         Actual             NaN   \n",
      "2       Agriculture, Forestry and Fishing         Actual             NaN   \n",
      "3       Agriculture, Forestry and Fishing         Actual             NaN   \n",
      "4       Agriculture, Forestry and Fishing         Actual             NaN   \n",
      "...                                   ...            ...             ...   \n",
      "24893  Area Outside Territorial Authority         Actual             NaN   \n",
      "24894  Area Outside Territorial Authority         Actual             NaN   \n",
      "24895  Area Outside Territorial Authority         Actual             NaN   \n",
      "24896  Area Outside Territorial Authority         Actual             NaN   \n",
      "24897  Area Outside Territorial Authority         Actual             NaN   \n",
      "\n",
      "       Series_title_5  \n",
      "0                 NaN  \n",
      "1                 NaN  \n",
      "2                 NaN  \n",
      "3                 NaN  \n",
      "4                 NaN  \n",
      "...               ...  \n",
      "24893             NaN  \n",
      "24894             NaN  \n",
      "24895             NaN  \n",
      "24896             NaN  \n",
      "24897             NaN  \n",
      "\n",
      "[24898 rows x 14 columns]\n"
     ]
    }
   ],
   "source": [
    "print(df)"
   ]
  },
  {
   "cell_type": "code",
   "execution_count": 45,
   "id": "d87e68e3-76d8-4b28-ab49-91899daf2585",
   "metadata": {},
   "outputs": [],
   "source": [
    "df1=pd.DataFrame({'a':['charan','ravi'],2:['rajesh','ramu']})"
   ]
  },
  {
   "cell_type": "code",
   "execution_count": 46,
   "id": "042ccf3e-216c-438c-a931-a897ab793cda",
   "metadata": {},
   "outputs": [
    {
     "name": "stdout",
     "output_type": "stream",
     "text": [
      "        a       2\n",
      "0  charan  rajesh\n",
      "1    ravi    ramu\n"
     ]
    }
   ],
   "source": [
    "print(df1)"
   ]
  },
  {
   "cell_type": "code",
   "execution_count": 48,
   "id": "89aa57b4-336b-448a-948c-ab3e9259357b",
   "metadata": {},
   "outputs": [],
   "source": [
    "df1.to_csv('output.csv')"
   ]
  },
  {
   "cell_type": "code",
   "execution_count": 49,
   "id": "f885ce63-9c58-4db5-8112-63ad2059eaac",
   "metadata": {},
   "outputs": [],
   "source": [
    "df1.to_csv('output1.csv',index=False)"
   ]
  },
  {
   "cell_type": "code",
   "execution_count": 52,
   "id": "e69a1ea5-30e2-482d-a510-27227b00f96c",
   "metadata": {},
   "outputs": [
    {
     "data": {
      "text/html": [
       "<div>\n",
       "<style scoped>\n",
       "    .dataframe tbody tr th:only-of-type {\n",
       "        vertical-align: middle;\n",
       "    }\n",
       "\n",
       "    .dataframe tbody tr th {\n",
       "        vertical-align: top;\n",
       "    }\n",
       "\n",
       "    .dataframe thead th {\n",
       "        text-align: right;\n",
       "    }\n",
       "</style>\n",
       "<table border=\"1\" class=\"dataframe\">\n",
       "  <thead>\n",
       "    <tr style=\"text-align: right;\">\n",
       "      <th></th>\n",
       "      <th>Series_reference</th>\n",
       "      <th>Period</th>\n",
       "      <th>Data_value</th>\n",
       "      <th>Suppressed</th>\n",
       "      <th>STATUS</th>\n",
       "      <th>UNITS</th>\n",
       "      <th>Magnitude</th>\n",
       "      <th>Subject</th>\n",
       "      <th>Group</th>\n",
       "      <th>Series_title_1</th>\n",
       "      <th>Series_title_2</th>\n",
       "      <th>Series_title_3</th>\n",
       "      <th>Series_title_4</th>\n",
       "      <th>Series_title_5</th>\n",
       "    </tr>\n",
       "  </thead>\n",
       "  <tbody>\n",
       "    <tr>\n",
       "      <th>0</th>\n",
       "      <td>BDCQ.SEA1AA</td>\n",
       "      <td>2011.06</td>\n",
       "      <td>80078.0</td>\n",
       "      <td>NaN</td>\n",
       "      <td>F</td>\n",
       "      <td>Number</td>\n",
       "      <td>0</td>\n",
       "      <td>Business Data Collection - BDC</td>\n",
       "      <td>Industry by employment variable</td>\n",
       "      <td>Filled jobs</td>\n",
       "      <td>Agriculture, Forestry and Fishing</td>\n",
       "      <td>Actual</td>\n",
       "      <td>NaN</td>\n",
       "      <td>NaN</td>\n",
       "    </tr>\n",
       "    <tr>\n",
       "      <th>1</th>\n",
       "      <td>BDCQ.SEA1AA</td>\n",
       "      <td>2011.09</td>\n",
       "      <td>78324.0</td>\n",
       "      <td>NaN</td>\n",
       "      <td>F</td>\n",
       "      <td>Number</td>\n",
       "      <td>0</td>\n",
       "      <td>Business Data Collection - BDC</td>\n",
       "      <td>Industry by employment variable</td>\n",
       "      <td>Filled jobs</td>\n",
       "      <td>Agriculture, Forestry and Fishing</td>\n",
       "      <td>Actual</td>\n",
       "      <td>NaN</td>\n",
       "      <td>NaN</td>\n",
       "    </tr>\n",
       "    <tr>\n",
       "      <th>2</th>\n",
       "      <td>BDCQ.SEA1AA</td>\n",
       "      <td>2011.12</td>\n",
       "      <td>85850.0</td>\n",
       "      <td>NaN</td>\n",
       "      <td>F</td>\n",
       "      <td>Number</td>\n",
       "      <td>0</td>\n",
       "      <td>Business Data Collection - BDC</td>\n",
       "      <td>Industry by employment variable</td>\n",
       "      <td>Filled jobs</td>\n",
       "      <td>Agriculture, Forestry and Fishing</td>\n",
       "      <td>Actual</td>\n",
       "      <td>NaN</td>\n",
       "      <td>NaN</td>\n",
       "    </tr>\n",
       "    <tr>\n",
       "      <th>3</th>\n",
       "      <td>BDCQ.SEA1AA</td>\n",
       "      <td>2012.03</td>\n",
       "      <td>90743.0</td>\n",
       "      <td>NaN</td>\n",
       "      <td>F</td>\n",
       "      <td>Number</td>\n",
       "      <td>0</td>\n",
       "      <td>Business Data Collection - BDC</td>\n",
       "      <td>Industry by employment variable</td>\n",
       "      <td>Filled jobs</td>\n",
       "      <td>Agriculture, Forestry and Fishing</td>\n",
       "      <td>Actual</td>\n",
       "      <td>NaN</td>\n",
       "      <td>NaN</td>\n",
       "    </tr>\n",
       "    <tr>\n",
       "      <th>4</th>\n",
       "      <td>BDCQ.SEA1AA</td>\n",
       "      <td>2012.06</td>\n",
       "      <td>81780.0</td>\n",
       "      <td>NaN</td>\n",
       "      <td>F</td>\n",
       "      <td>Number</td>\n",
       "      <td>0</td>\n",
       "      <td>Business Data Collection - BDC</td>\n",
       "      <td>Industry by employment variable</td>\n",
       "      <td>Filled jobs</td>\n",
       "      <td>Agriculture, Forestry and Fishing</td>\n",
       "      <td>Actual</td>\n",
       "      <td>NaN</td>\n",
       "      <td>NaN</td>\n",
       "    </tr>\n",
       "  </tbody>\n",
       "</table>\n",
       "</div>"
      ],
      "text/plain": [
       "  Series_reference   Period  Data_value Suppressed STATUS   UNITS  Magnitude  \\\n",
       "0      BDCQ.SEA1AA  2011.06     80078.0        NaN      F  Number          0   \n",
       "1      BDCQ.SEA1AA  2011.09     78324.0        NaN      F  Number          0   \n",
       "2      BDCQ.SEA1AA  2011.12     85850.0        NaN      F  Number          0   \n",
       "3      BDCQ.SEA1AA  2012.03     90743.0        NaN      F  Number          0   \n",
       "4      BDCQ.SEA1AA  2012.06     81780.0        NaN      F  Number          0   \n",
       "\n",
       "                          Subject                            Group  \\\n",
       "0  Business Data Collection - BDC  Industry by employment variable   \n",
       "1  Business Data Collection - BDC  Industry by employment variable   \n",
       "2  Business Data Collection - BDC  Industry by employment variable   \n",
       "3  Business Data Collection - BDC  Industry by employment variable   \n",
       "4  Business Data Collection - BDC  Industry by employment variable   \n",
       "\n",
       "  Series_title_1                     Series_title_2 Series_title_3  \\\n",
       "0    Filled jobs  Agriculture, Forestry and Fishing         Actual   \n",
       "1    Filled jobs  Agriculture, Forestry and Fishing         Actual   \n",
       "2    Filled jobs  Agriculture, Forestry and Fishing         Actual   \n",
       "3    Filled jobs  Agriculture, Forestry and Fishing         Actual   \n",
       "4    Filled jobs  Agriculture, Forestry and Fishing         Actual   \n",
       "\n",
       "   Series_title_4  Series_title_5  \n",
       "0             NaN             NaN  \n",
       "1             NaN             NaN  \n",
       "2             NaN             NaN  \n",
       "3             NaN             NaN  \n",
       "4             NaN             NaN  "
      ]
     },
     "execution_count": 52,
     "metadata": {},
     "output_type": "execute_result"
    }
   ],
   "source": [
    "df.head()"
   ]
  },
  {
   "cell_type": "code",
   "execution_count": 53,
   "id": "068a7394-47ec-4527-b92e-0a60d14686fc",
   "metadata": {},
   "outputs": [
    {
     "data": {
      "text/html": [
       "<div>\n",
       "<style scoped>\n",
       "    .dataframe tbody tr th:only-of-type {\n",
       "        vertical-align: middle;\n",
       "    }\n",
       "\n",
       "    .dataframe tbody tr th {\n",
       "        vertical-align: top;\n",
       "    }\n",
       "\n",
       "    .dataframe thead th {\n",
       "        text-align: right;\n",
       "    }\n",
       "</style>\n",
       "<table border=\"1\" class=\"dataframe\">\n",
       "  <thead>\n",
       "    <tr style=\"text-align: right;\">\n",
       "      <th></th>\n",
       "      <th>Series_reference</th>\n",
       "      <th>Period</th>\n",
       "      <th>Data_value</th>\n",
       "      <th>Suppressed</th>\n",
       "      <th>STATUS</th>\n",
       "      <th>UNITS</th>\n",
       "      <th>Magnitude</th>\n",
       "      <th>Subject</th>\n",
       "      <th>Group</th>\n",
       "      <th>Series_title_1</th>\n",
       "      <th>Series_title_2</th>\n",
       "      <th>Series_title_3</th>\n",
       "      <th>Series_title_4</th>\n",
       "      <th>Series_title_5</th>\n",
       "    </tr>\n",
       "  </thead>\n",
       "  <tbody>\n",
       "    <tr>\n",
       "      <th>24893</th>\n",
       "      <td>BDCQ.SEE3999A</td>\n",
       "      <td>2017.06</td>\n",
       "      <td>NaN</td>\n",
       "      <td>Y</td>\n",
       "      <td>F</td>\n",
       "      <td>Number</td>\n",
       "      <td>0</td>\n",
       "      <td>Business Data Collection - BDC</td>\n",
       "      <td>Territorial authority by employment variable</td>\n",
       "      <td>Filled jobs (workplace location based)</td>\n",
       "      <td>Area Outside Territorial Authority</td>\n",
       "      <td>Actual</td>\n",
       "      <td>NaN</td>\n",
       "      <td>NaN</td>\n",
       "    </tr>\n",
       "    <tr>\n",
       "      <th>24894</th>\n",
       "      <td>BDCQ.SEE3999A</td>\n",
       "      <td>2017.09</td>\n",
       "      <td>NaN</td>\n",
       "      <td>Y</td>\n",
       "      <td>F</td>\n",
       "      <td>Number</td>\n",
       "      <td>0</td>\n",
       "      <td>Business Data Collection - BDC</td>\n",
       "      <td>Territorial authority by employment variable</td>\n",
       "      <td>Filled jobs (workplace location based)</td>\n",
       "      <td>Area Outside Territorial Authority</td>\n",
       "      <td>Actual</td>\n",
       "      <td>NaN</td>\n",
       "      <td>NaN</td>\n",
       "    </tr>\n",
       "    <tr>\n",
       "      <th>24895</th>\n",
       "      <td>BDCQ.SEE3999A</td>\n",
       "      <td>2017.12</td>\n",
       "      <td>NaN</td>\n",
       "      <td>Y</td>\n",
       "      <td>F</td>\n",
       "      <td>Number</td>\n",
       "      <td>0</td>\n",
       "      <td>Business Data Collection - BDC</td>\n",
       "      <td>Territorial authority by employment variable</td>\n",
       "      <td>Filled jobs (workplace location based)</td>\n",
       "      <td>Area Outside Territorial Authority</td>\n",
       "      <td>Actual</td>\n",
       "      <td>NaN</td>\n",
       "      <td>NaN</td>\n",
       "    </tr>\n",
       "    <tr>\n",
       "      <th>24896</th>\n",
       "      <td>BDCQ.SEE3999A</td>\n",
       "      <td>2018.03</td>\n",
       "      <td>NaN</td>\n",
       "      <td>Y</td>\n",
       "      <td>F</td>\n",
       "      <td>Number</td>\n",
       "      <td>0</td>\n",
       "      <td>Business Data Collection - BDC</td>\n",
       "      <td>Territorial authority by employment variable</td>\n",
       "      <td>Filled jobs (workplace location based)</td>\n",
       "      <td>Area Outside Territorial Authority</td>\n",
       "      <td>Actual</td>\n",
       "      <td>NaN</td>\n",
       "      <td>NaN</td>\n",
       "    </tr>\n",
       "    <tr>\n",
       "      <th>24897</th>\n",
       "      <td>BDCQ.SEE3999A</td>\n",
       "      <td>2018.06</td>\n",
       "      <td>NaN</td>\n",
       "      <td>Y</td>\n",
       "      <td>F</td>\n",
       "      <td>Number</td>\n",
       "      <td>0</td>\n",
       "      <td>Business Data Collection - BDC</td>\n",
       "      <td>Territorial authority by employment variable</td>\n",
       "      <td>Filled jobs (workplace location based)</td>\n",
       "      <td>Area Outside Territorial Authority</td>\n",
       "      <td>Actual</td>\n",
       "      <td>NaN</td>\n",
       "      <td>NaN</td>\n",
       "    </tr>\n",
       "  </tbody>\n",
       "</table>\n",
       "</div>"
      ],
      "text/plain": [
       "      Series_reference   Period  Data_value Suppressed STATUS   UNITS  \\\n",
       "24893    BDCQ.SEE3999A  2017.06         NaN          Y      F  Number   \n",
       "24894    BDCQ.SEE3999A  2017.09         NaN          Y      F  Number   \n",
       "24895    BDCQ.SEE3999A  2017.12         NaN          Y      F  Number   \n",
       "24896    BDCQ.SEE3999A  2018.03         NaN          Y      F  Number   \n",
       "24897    BDCQ.SEE3999A  2018.06         NaN          Y      F  Number   \n",
       "\n",
       "       Magnitude                         Subject  \\\n",
       "24893          0  Business Data Collection - BDC   \n",
       "24894          0  Business Data Collection - BDC   \n",
       "24895          0  Business Data Collection - BDC   \n",
       "24896          0  Business Data Collection - BDC   \n",
       "24897          0  Business Data Collection - BDC   \n",
       "\n",
       "                                              Group  \\\n",
       "24893  Territorial authority by employment variable   \n",
       "24894  Territorial authority by employment variable   \n",
       "24895  Territorial authority by employment variable   \n",
       "24896  Territorial authority by employment variable   \n",
       "24897  Territorial authority by employment variable   \n",
       "\n",
       "                               Series_title_1  \\\n",
       "24893  Filled jobs (workplace location based)   \n",
       "24894  Filled jobs (workplace location based)   \n",
       "24895  Filled jobs (workplace location based)   \n",
       "24896  Filled jobs (workplace location based)   \n",
       "24897  Filled jobs (workplace location based)   \n",
       "\n",
       "                           Series_title_2 Series_title_3  Series_title_4  \\\n",
       "24893  Area Outside Territorial Authority         Actual             NaN   \n",
       "24894  Area Outside Territorial Authority         Actual             NaN   \n",
       "24895  Area Outside Territorial Authority         Actual             NaN   \n",
       "24896  Area Outside Territorial Authority         Actual             NaN   \n",
       "24897  Area Outside Territorial Authority         Actual             NaN   \n",
       "\n",
       "       Series_title_5  \n",
       "24893             NaN  \n",
       "24894             NaN  \n",
       "24895             NaN  \n",
       "24896             NaN  \n",
       "24897             NaN  "
      ]
     },
     "execution_count": 53,
     "metadata": {},
     "output_type": "execute_result"
    }
   ],
   "source": [
    "df.tail()"
   ]
  },
  {
   "cell_type": "code",
   "execution_count": 54,
   "id": "abe76e59-79ff-4206-a4d3-1629aefae99b",
   "metadata": {},
   "outputs": [
    {
     "name": "stdout",
     "output_type": "stream",
     "text": [
      "<class 'pandas.core.frame.DataFrame'>\n",
      "RangeIndex: 24898 entries, 0 to 24897\n",
      "Data columns (total 14 columns):\n",
      " #   Column            Non-Null Count  Dtype  \n",
      "---  ------            --------------  -----  \n",
      " 0   Series_reference  24898 non-null  object \n",
      " 1   Period            24898 non-null  float64\n",
      " 2   Data_value        22059 non-null  float64\n",
      " 3   Suppressed        2839 non-null   object \n",
      " 4   STATUS            24898 non-null  object \n",
      " 5   UNITS             24898 non-null  object \n",
      " 6   Magnitude         24898 non-null  int64  \n",
      " 7   Subject           24898 non-null  object \n",
      " 8   Group             24898 non-null  object \n",
      " 9   Series_title_1    24898 non-null  object \n",
      " 10  Series_title_2    24898 non-null  object \n",
      " 11  Series_title_3    24898 non-null  object \n",
      " 12  Series_title_4    0 non-null      float64\n",
      " 13  Series_title_5    0 non-null      float64\n",
      "dtypes: float64(4), int64(1), object(9)\n",
      "memory usage: 2.7+ MB\n"
     ]
    }
   ],
   "source": [
    "df.info()"
   ]
  },
  {
   "cell_type": "code",
   "execution_count": 61,
   "id": "b9ea9c2a-e3bb-4359-8de2-398b5e73433f",
   "metadata": {},
   "outputs": [
    {
     "data": {
      "text/plain": [
       "(2, 2)"
      ]
     },
     "execution_count": 61,
     "metadata": {},
     "output_type": "execute_result"
    }
   ],
   "source": [
    "df1.shape"
   ]
  },
  {
   "cell_type": "code",
   "execution_count": 62,
   "id": "b997f0b9-d9a7-45cd-adfa-07c152f8fffc",
   "metadata": {},
   "outputs": [
    {
     "data": {
      "text/html": [
       "<div>\n",
       "<style scoped>\n",
       "    .dataframe tbody tr th:only-of-type {\n",
       "        vertical-align: middle;\n",
       "    }\n",
       "\n",
       "    .dataframe tbody tr th {\n",
       "        vertical-align: top;\n",
       "    }\n",
       "\n",
       "    .dataframe thead th {\n",
       "        text-align: right;\n",
       "    }\n",
       "</style>\n",
       "<table border=\"1\" class=\"dataframe\">\n",
       "  <thead>\n",
       "    <tr style=\"text-align: right;\">\n",
       "      <th></th>\n",
       "      <th>Period</th>\n",
       "      <th>Data_value</th>\n",
       "      <th>Magnitude</th>\n",
       "      <th>Series_title_4</th>\n",
       "      <th>Series_title_5</th>\n",
       "    </tr>\n",
       "  </thead>\n",
       "  <tbody>\n",
       "    <tr>\n",
       "      <th>count</th>\n",
       "      <td>24898.000000</td>\n",
       "      <td>2.205900e+04</td>\n",
       "      <td>24898.000000</td>\n",
       "      <td>0.0</td>\n",
       "      <td>0.0</td>\n",
       "    </tr>\n",
       "    <tr>\n",
       "      <th>mean</th>\n",
       "      <td>2017.692457</td>\n",
       "      <td>7.358011e+04</td>\n",
       "      <td>2.270303</td>\n",
       "      <td>NaN</td>\n",
       "      <td>NaN</td>\n",
       "    </tr>\n",
       "    <tr>\n",
       "      <th>std</th>\n",
       "      <td>4.063672</td>\n",
       "      <td>2.129798e+05</td>\n",
       "      <td>2.909963</td>\n",
       "      <td>NaN</td>\n",
       "      <td>NaN</td>\n",
       "    </tr>\n",
       "    <tr>\n",
       "      <th>min</th>\n",
       "      <td>2011.060000</td>\n",
       "      <td>1.171797e+00</td>\n",
       "      <td>0.000000</td>\n",
       "      <td>NaN</td>\n",
       "      <td>NaN</td>\n",
       "    </tr>\n",
       "    <tr>\n",
       "      <th>25%</th>\n",
       "      <td>2014.090000</td>\n",
       "      <td>1.935656e+03</td>\n",
       "      <td>0.000000</td>\n",
       "      <td>NaN</td>\n",
       "      <td>NaN</td>\n",
       "    </tr>\n",
       "    <tr>\n",
       "      <th>50%</th>\n",
       "      <td>2018.030000</td>\n",
       "      <td>1.419000e+04</td>\n",
       "      <td>0.000000</td>\n",
       "      <td>NaN</td>\n",
       "      <td>NaN</td>\n",
       "    </tr>\n",
       "    <tr>\n",
       "      <th>75%</th>\n",
       "      <td>2021.060000</td>\n",
       "      <td>6.099200e+04</td>\n",
       "      <td>6.000000</td>\n",
       "      <td>NaN</td>\n",
       "      <td>NaN</td>\n",
       "    </tr>\n",
       "    <tr>\n",
       "      <th>max</th>\n",
       "      <td>2025.060000</td>\n",
       "      <td>2.321295e+06</td>\n",
       "      <td>6.000000</td>\n",
       "      <td>NaN</td>\n",
       "      <td>NaN</td>\n",
       "    </tr>\n",
       "  </tbody>\n",
       "</table>\n",
       "</div>"
      ],
      "text/plain": [
       "             Period    Data_value     Magnitude  Series_title_4  \\\n",
       "count  24898.000000  2.205900e+04  24898.000000             0.0   \n",
       "mean    2017.692457  7.358011e+04      2.270303             NaN   \n",
       "std        4.063672  2.129798e+05      2.909963             NaN   \n",
       "min     2011.060000  1.171797e+00      0.000000             NaN   \n",
       "25%     2014.090000  1.935656e+03      0.000000             NaN   \n",
       "50%     2018.030000  1.419000e+04      0.000000             NaN   \n",
       "75%     2021.060000  6.099200e+04      6.000000             NaN   \n",
       "max     2025.060000  2.321295e+06      6.000000             NaN   \n",
       "\n",
       "       Series_title_5  \n",
       "count             0.0  \n",
       "mean              NaN  \n",
       "std               NaN  \n",
       "min               NaN  \n",
       "25%               NaN  \n",
       "50%               NaN  \n",
       "75%               NaN  \n",
       "max               NaN  "
      ]
     },
     "execution_count": 62,
     "metadata": {},
     "output_type": "execute_result"
    }
   ],
   "source": [
    "df.describe()"
   ]
  },
  {
   "cell_type": "code",
   "execution_count": 63,
   "id": "a86db841-aeb3-43c1-a559-c3686202d460",
   "metadata": {},
   "outputs": [
    {
     "data": {
      "text/plain": [
       "Series_reference     object\n",
       "Period              float64\n",
       "Data_value          float64\n",
       "Suppressed           object\n",
       "STATUS               object\n",
       "UNITS                object\n",
       "Magnitude             int64\n",
       "Subject              object\n",
       "Group                object\n",
       "Series_title_1       object\n",
       "Series_title_2       object\n",
       "Series_title_3       object\n",
       "Series_title_4      float64\n",
       "Series_title_5      float64\n",
       "dtype: object"
      ]
     },
     "execution_count": 63,
     "metadata": {},
     "output_type": "execute_result"
    }
   ],
   "source": [
    "df.dtypes"
   ]
  },
  {
   "cell_type": "markdown",
   "id": "a0188c36-c91b-4a35-bdbf-271288c09373",
   "metadata": {},
   "source": [
    "# handling null values"
   ]
  },
  {
   "cell_type": "code",
   "execution_count": 80,
   "id": "e69c85d8-6227-46ad-b450-2689d52ff7f3",
   "metadata": {},
   "outputs": [],
   "source": [
    "df=pd.DataFrame({1:[1,2,pd.NA],2:[2,None,6]})"
   ]
  },
  {
   "cell_type": "code",
   "execution_count": 69,
   "id": "d5bc8add-0880-46b2-8606-ea9abe0d36ed",
   "metadata": {},
   "outputs": [
    {
     "name": "stdout",
     "output_type": "stream",
     "text": [
      "      1    2\n",
      "0     1  2.0\n",
      "1     2  NaN\n",
      "2  <NA>  6.0\n"
     ]
    }
   ],
   "source": [
    "print(df)"
   ]
  },
  {
   "cell_type": "code",
   "execution_count": 67,
   "id": "3dd60da3-7576-45cf-bea2-bfb97f5f7aee",
   "metadata": {},
   "outputs": [
    {
     "data": {
      "text/html": [
       "<div>\n",
       "<style scoped>\n",
       "    .dataframe tbody tr th:only-of-type {\n",
       "        vertical-align: middle;\n",
       "    }\n",
       "\n",
       "    .dataframe tbody tr th {\n",
       "        vertical-align: top;\n",
       "    }\n",
       "\n",
       "    .dataframe thead th {\n",
       "        text-align: right;\n",
       "    }\n",
       "</style>\n",
       "<table border=\"1\" class=\"dataframe\">\n",
       "  <thead>\n",
       "    <tr style=\"text-align: right;\">\n",
       "      <th></th>\n",
       "      <th>1</th>\n",
       "      <th>2</th>\n",
       "    </tr>\n",
       "  </thead>\n",
       "  <tbody>\n",
       "    <tr>\n",
       "      <th>0</th>\n",
       "      <td>1</td>\n",
       "      <td>2.0</td>\n",
       "    </tr>\n",
       "  </tbody>\n",
       "</table>\n",
       "</div>"
      ],
      "text/plain": [
       "   1    2\n",
       "0  1  2.0"
      ]
     },
     "execution_count": 67,
     "metadata": {},
     "output_type": "execute_result"
    }
   ],
   "source": [
    "df.dropna()"
   ]
  },
  {
   "cell_type": "code",
   "execution_count": 71,
   "id": "994a8ddc-2396-447b-a4ed-db6476b99ad3",
   "metadata": {},
   "outputs": [
    {
     "name": "stderr",
     "output_type": "stream",
     "text": [
      "C:\\Users\\cheta\\AppData\\Local\\Temp\\ipykernel_23580\\1141373660.py:1: FutureWarning: Downcasting object dtype arrays on .fillna, .ffill, .bfill is deprecated and will change in a future version. Call result.infer_objects(copy=False) instead. To opt-in to the future behavior, set `pd.set_option('future.no_silent_downcasting', True)`\n",
      "  x=df.fillna(0)\n"
     ]
    }
   ],
   "source": [
    "x=df.fillna(0)"
   ]
  },
  {
   "cell_type": "code",
   "execution_count": 72,
   "id": "132be16e-2989-4b1e-9fb4-c3d7ae623834",
   "metadata": {},
   "outputs": [
    {
     "name": "stdout",
     "output_type": "stream",
     "text": [
      "   1    2\n",
      "0  1  2.0\n",
      "1  2  0.0\n",
      "2  0  6.0\n"
     ]
    }
   ],
   "source": [
    "print(x)"
   ]
  },
  {
   "cell_type": "code",
   "execution_count": 73,
   "id": "e1ac15b0-cb42-40e5-9e3c-edaa1a57f845",
   "metadata": {},
   "outputs": [
    {
     "name": "stdout",
     "output_type": "stream",
     "text": [
      "      1    2\n",
      "0     1  2.0\n",
      "1     2  NaN\n",
      "2  <NA>  6.0\n"
     ]
    }
   ],
   "source": [
    "print(df)"
   ]
  },
  {
   "cell_type": "code",
   "execution_count": 81,
   "id": "9336bbb6-fe24-454c-a32a-893e7644a517",
   "metadata": {},
   "outputs": [
    {
     "name": "stderr",
     "output_type": "stream",
     "text": [
      "C:\\Users\\cheta\\AppData\\Local\\Temp\\ipykernel_23580\\1840858203.py:1: FutureWarning: Downcasting object dtype arrays on .fillna, .ffill, .bfill is deprecated and will change in a future version. Call result.infer_objects(copy=False) instead. To opt-in to the future behavior, set `pd.set_option('future.no_silent_downcasting', True)`\n",
      "  df.fillna(0,inplace=True)\n"
     ]
    }
   ],
   "source": [
    "df.fillna(0,inplace=True)"
   ]
  },
  {
   "cell_type": "code",
   "execution_count": 75,
   "id": "d8123109-c423-49de-bc38-d557645b13ca",
   "metadata": {},
   "outputs": [
    {
     "name": "stdout",
     "output_type": "stream",
     "text": [
      "   1    2\n",
      "0  1  2.0\n",
      "1  2  0.0\n",
      "2  0  6.0\n"
     ]
    }
   ],
   "source": [
    "print(df)"
   ]
  },
  {
   "cell_type": "code",
   "execution_count": 82,
   "id": "f4f596a6-3aca-460d-b73d-05c89bebdda3",
   "metadata": {},
   "outputs": [
    {
     "data": {
      "text/html": [
       "<div>\n",
       "<style scoped>\n",
       "    .dataframe tbody tr th:only-of-type {\n",
       "        vertical-align: middle;\n",
       "    }\n",
       "\n",
       "    .dataframe tbody tr th {\n",
       "        vertical-align: top;\n",
       "    }\n",
       "\n",
       "    .dataframe thead th {\n",
       "        text-align: right;\n",
       "    }\n",
       "</style>\n",
       "<table border=\"1\" class=\"dataframe\">\n",
       "  <thead>\n",
       "    <tr style=\"text-align: right;\">\n",
       "      <th></th>\n",
       "      <th>1</th>\n",
       "      <th>2</th>\n",
       "    </tr>\n",
       "  </thead>\n",
       "  <tbody>\n",
       "    <tr>\n",
       "      <th>1</th>\n",
       "      <td>1.000000</td>\n",
       "      <td>-0.981981</td>\n",
       "    </tr>\n",
       "    <tr>\n",
       "      <th>2</th>\n",
       "      <td>-0.981981</td>\n",
       "      <td>1.000000</td>\n",
       "    </tr>\n",
       "  </tbody>\n",
       "</table>\n",
       "</div>"
      ],
      "text/plain": [
       "          1         2\n",
       "1  1.000000 -0.981981\n",
       "2 -0.981981  1.000000"
      ]
     },
     "execution_count": 82,
     "metadata": {},
     "output_type": "execute_result"
    }
   ],
   "source": [
    "df.corr()"
   ]
  },
  {
   "cell_type": "code",
   "execution_count": 83,
   "id": "27cdac45-39c7-4f74-8203-76dfadc560f9",
   "metadata": {},
   "outputs": [],
   "source": [
    "import numpy as np"
   ]
  },
  {
   "cell_type": "code",
   "execution_count": 86,
   "id": "7e8c758f-9f93-4725-bc1a-bdf988cee790",
   "metadata": {},
   "outputs": [],
   "source": [
    "df={1:[1,2,np.nan]}"
   ]
  },
  {
   "cell_type": "code",
   "execution_count": 87,
   "id": "9d66f9ee-0295-4df9-b852-829d19b01e14",
   "metadata": {},
   "outputs": [],
   "source": [
    "df=pd.DataFrame(df)"
   ]
  },
  {
   "cell_type": "code",
   "execution_count": 88,
   "id": "50f30aa6-77cb-4d13-a191-7ce625c4e7ac",
   "metadata": {},
   "outputs": [
    {
     "name": "stdout",
     "output_type": "stream",
     "text": [
      "     1\n",
      "0  1.0\n",
      "1  2.0\n",
      "2  NaN\n"
     ]
    }
   ],
   "source": [
    "print(df)"
   ]
  },
  {
   "cell_type": "code",
   "execution_count": 89,
   "id": "8dc87d5a-934e-4337-9847-001ceca75838",
   "metadata": {},
   "outputs": [
    {
     "data": {
      "text/html": [
       "<div>\n",
       "<style scoped>\n",
       "    .dataframe tbody tr th:only-of-type {\n",
       "        vertical-align: middle;\n",
       "    }\n",
       "\n",
       "    .dataframe tbody tr th {\n",
       "        vertical-align: top;\n",
       "    }\n",
       "\n",
       "    .dataframe thead th {\n",
       "        text-align: right;\n",
       "    }\n",
       "</style>\n",
       "<table border=\"1\" class=\"dataframe\">\n",
       "  <thead>\n",
       "    <tr style=\"text-align: right;\">\n",
       "      <th></th>\n",
       "      <th>1</th>\n",
       "    </tr>\n",
       "  </thead>\n",
       "  <tbody>\n",
       "    <tr>\n",
       "      <th>0</th>\n",
       "      <td>1.0</td>\n",
       "    </tr>\n",
       "    <tr>\n",
       "      <th>1</th>\n",
       "      <td>2.0</td>\n",
       "    </tr>\n",
       "  </tbody>\n",
       "</table>\n",
       "</div>"
      ],
      "text/plain": [
       "     1\n",
       "0  1.0\n",
       "1  2.0"
      ]
     },
     "execution_count": 89,
     "metadata": {},
     "output_type": "execute_result"
    }
   ],
   "source": [
    "df.dropna()"
   ]
  },
  {
   "cell_type": "code",
   "execution_count": null,
   "id": "a642d772-ebc4-4ad2-8611-49ac75fefb83",
   "metadata": {},
   "outputs": [],
   "source": []
  }
 ],
 "metadata": {
  "kernelspec": {
   "display_name": "Python 3 (ipykernel)",
   "language": "python",
   "name": "python3"
  },
  "language_info": {
   "codemirror_mode": {
    "name": "ipython",
    "version": 3
   },
   "file_extension": ".py",
   "mimetype": "text/x-python",
   "name": "python",
   "nbconvert_exporter": "python",
   "pygments_lexer": "ipython3",
   "version": "3.13.5"
  }
 },
 "nbformat": 4,
 "nbformat_minor": 5
}
