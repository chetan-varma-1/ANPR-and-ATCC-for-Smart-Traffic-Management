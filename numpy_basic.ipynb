{
 "cells": [
  {
   "cell_type": "code",
   "execution_count": 2,
   "id": "77b27237-8b00-46cb-b7a2-c9d248489634",
   "metadata": {},
   "outputs": [],
   "source": [
    "import numpy as np"
   ]
  },
  {
   "cell_type": "code",
   "execution_count": 2,
   "id": "4672e40d-c192-4f95-aa03-82c5980d02ee",
   "metadata": {},
   "outputs": [],
   "source": [
    "a=np.array([1,23])"
   ]
  },
  {
   "cell_type": "code",
   "execution_count": 3,
   "id": "c25841bf-b746-4c17-850a-5acb8cf63109",
   "metadata": {},
   "outputs": [
    {
     "name": "stdout",
     "output_type": "stream",
     "text": [
      "[ 1 23]\n"
     ]
    }
   ],
   "source": [
    "print(a)"
   ]
  },
  {
   "cell_type": "code",
   "execution_count": 4,
   "id": "922822c8-0cad-443b-a422-f415e3b010c8",
   "metadata": {},
   "outputs": [
    {
     "name": "stdout",
     "output_type": "stream",
     "text": [
      "<class 'numpy.ndarray'>\n"
     ]
    }
   ],
   "source": [
    "print(type(a))"
   ]
  },
  {
   "cell_type": "code",
   "execution_count": 5,
   "id": "79efc797-1f25-450d-b68b-60a49e9a17cf",
   "metadata": {},
   "outputs": [],
   "source": [
    "n1=np.array([1,2,3])"
   ]
  },
  {
   "cell_type": "code",
   "execution_count": 6,
   "id": "b0e76f8b-df4d-4dbf-8aba-2997a36c9df3",
   "metadata": {},
   "outputs": [],
   "source": [
    "n2=np.array([4,5,6])"
   ]
  },
  {
   "cell_type": "code",
   "execution_count": 7,
   "id": "2679fa06-8f83-499a-91a2-d2214377913a",
   "metadata": {},
   "outputs": [
    {
     "name": "stdout",
     "output_type": "stream",
     "text": [
      "[5 7 9]\n",
      "[-3 -3 -3]\n"
     ]
    }
   ],
   "source": [
    "print(n1+n2)\n",
    "print(n1-n2)"
   ]
  },
  {
   "cell_type": "code",
   "execution_count": 8,
   "id": "2dc6b5ef-bbf9-4771-84d8-83b0724a6ac0",
   "metadata": {},
   "outputs": [
    {
     "name": "stdout",
     "output_type": "stream",
     "text": [
      "6\n"
     ]
    }
   ],
   "source": [
    "print(n1.sum())"
   ]
  },
  {
   "cell_type": "markdown",
   "id": "89f84f7e-0c7c-4288-8b1b-c448f03b67ab",
   "metadata": {},
   "source": [
    "# 2nd arrays"
   ]
  },
  {
   "cell_type": "code",
   "execution_count": 9,
   "id": "24332f44-cbf8-484a-9bac-12e1d6060795",
   "metadata": {},
   "outputs": [],
   "source": [
    "n1=np.array([[1,2],[3,4]])"
   ]
  },
  {
   "cell_type": "code",
   "execution_count": 10,
   "id": "cd720e74-5965-4e70-aba3-4628affde310",
   "metadata": {},
   "outputs": [
    {
     "name": "stdout",
     "output_type": "stream",
     "text": [
      "[[1 2]\n",
      " [3 4]]\n"
     ]
    }
   ],
   "source": [
    "print(n1)"
   ]
  },
  {
   "cell_type": "code",
   "execution_count": 11,
   "id": "4fabec85-5290-4829-8cc2-aae6b80dc35b",
   "metadata": {},
   "outputs": [
    {
     "data": {
      "text/plain": [
       "2"
      ]
     },
     "execution_count": 11,
     "metadata": {},
     "output_type": "execute_result"
    }
   ],
   "source": [
    "n1.ndim"
   ]
  },
  {
   "cell_type": "code",
   "execution_count": 12,
   "id": "6f036860-b1fb-46f1-a1c7-60e59c157dcf",
   "metadata": {},
   "outputs": [
    {
     "name": "stdout",
     "output_type": "stream",
     "text": [
      "4\n"
     ]
    }
   ],
   "source": [
    "print(np.size(n1))"
   ]
  },
  {
   "cell_type": "code",
   "execution_count": 13,
   "id": "cd6b94b3-47d8-4e9c-a7ef-fa0f56d8c22c",
   "metadata": {},
   "outputs": [],
   "source": [
    "n1=np.array([1,2,3,4,5,6,7])"
   ]
  },
  {
   "cell_type": "code",
   "execution_count": 14,
   "id": "6c96f71f-378a-4877-997f-a64c1b4af5e9",
   "metadata": {},
   "outputs": [
    {
     "name": "stdout",
     "output_type": "stream",
     "text": [
      "1\n"
     ]
    }
   ],
   "source": [
    "print(n1[0])"
   ]
  },
  {
   "cell_type": "code",
   "execution_count": 16,
   "id": "b334f1fb-a234-457e-9372-d09955172197",
   "metadata": {},
   "outputs": [],
   "source": [
    "n1=np.array([[1,2],[3,4]])"
   ]
  },
  {
   "cell_type": "code",
   "execution_count": 17,
   "id": "2d5eb314-72e5-42c8-9c55-89bc62df2274",
   "metadata": {},
   "outputs": [
    {
     "name": "stdout",
     "output_type": "stream",
     "text": [
      "2\n"
     ]
    }
   ],
   "source": [
    "print(n1[0][1])"
   ]
  },
  {
   "cell_type": "markdown",
   "id": "e5d8e64f-ddb4-47b0-a776-a9565c9bfa5c",
   "metadata": {},
   "source": [
    "# slicing"
   ]
  },
  {
   "cell_type": "code",
   "execution_count": 18,
   "id": "0476e1c0-577d-4c8c-a33d-079fff428caa",
   "metadata": {},
   "outputs": [],
   "source": [
    " n=np.array([1,2,3,4,5,6])"
   ]
  },
  {
   "cell_type": "code",
   "execution_count": 19,
   "id": "7dab605e-62f0-4b09-a49e-97764311c5e4",
   "metadata": {},
   "outputs": [
    {
     "name": "stdout",
     "output_type": "stream",
     "text": [
      "[2 3]\n"
     ]
    }
   ],
   "source": [
    "print(n[1:3])"
   ]
  },
  {
   "cell_type": "markdown",
   "id": "15228ef6-3c80-457c-8b20-7142162e4e56",
   "metadata": {},
   "source": [
    "# COPY AND VIEW"
   ]
  },
  {
   "cell_type": "code",
   "execution_count": 3,
   "id": "93a2725e-8225-4733-b824-1fb729480b39",
   "metadata": {},
   "outputs": [],
   "source": [
    "n=np.array([1,2,3,4])"
   ]
  },
  {
   "cell_type": "code",
   "execution_count": 4,
   "id": "4ba3938d-64d9-4bb4-afa3-08433286da1d",
   "metadata": {},
   "outputs": [],
   "source": [
    "x=n.copy()"
   ]
  },
  {
   "cell_type": "code",
   "execution_count": 5,
   "id": "c94f9be0-3c41-4ba8-9ccd-ebb2863336a4",
   "metadata": {},
   "outputs": [
    {
     "name": "stdout",
     "output_type": "stream",
     "text": [
      "[1 2 3 4]\n"
     ]
    }
   ],
   "source": [
    "print(n)"
   ]
  },
  {
   "cell_type": "code",
   "execution_count": 6,
   "id": "f1d194f5-f195-4c51-9c87-f865ffb5a01b",
   "metadata": {},
   "outputs": [
    {
     "name": "stdout",
     "output_type": "stream",
     "text": [
      "[1 2 3 4]\n"
     ]
    }
   ],
   "source": [
    "print(x)"
   ]
  },
  {
   "cell_type": "code",
   "execution_count": 7,
   "id": "ba5d2b8a-a9b7-459f-829b-c1b3cda338dc",
   "metadata": {},
   "outputs": [
    {
     "name": "stdout",
     "output_type": "stream",
     "text": [
      "[10  2  3  4]\n"
     ]
    }
   ],
   "source": [
    "x[0]=10\n",
    "print(x)"
   ]
  },
  {
   "cell_type": "code",
   "execution_count": 9,
   "id": "4f86c0e7-b3d3-4fbc-bd7b-ef7afc05cfd4",
   "metadata": {},
   "outputs": [
    {
     "name": "stdout",
     "output_type": "stream",
     "text": [
      "[1 2 3 4]\n"
     ]
    }
   ],
   "source": [
    "print(n)"
   ]
  },
  {
   "cell_type": "code",
   "execution_count": 10,
   "id": "e98cd6c4-573d-4638-9b5c-7a497d390313",
   "metadata": {},
   "outputs": [],
   "source": [
    "n1=np.array([1,24,65,2])"
   ]
  },
  {
   "cell_type": "code",
   "execution_count": 14,
   "id": "1be3911c-0e1d-472e-aeed-bb2863202066",
   "metadata": {},
   "outputs": [],
   "source": [
    "v=n1.view()"
   ]
  },
  {
   "cell_type": "code",
   "execution_count": 15,
   "id": "eedaad24-bccd-4d28-85a4-730bdd80d4d9",
   "metadata": {},
   "outputs": [
    {
     "name": "stdout",
     "output_type": "stream",
     "text": [
      "[ 1 24 65  2]\n",
      "[ 1 24 65  2]\n"
     ]
    }
   ],
   "source": [
    "print(n1)\n",
    "print(v)"
   ]
  },
  {
   "cell_type": "code",
   "execution_count": 16,
   "id": "17600b7a-56a1-4ce6-a86a-5e94e7b1b5df",
   "metadata": {},
   "outputs": [
    {
     "name": "stdout",
     "output_type": "stream",
     "text": [
      "[11 24 65  2]\n"
     ]
    }
   ],
   "source": [
    "v[0]=11\n",
    "print(v)"
   ]
  },
  {
   "cell_type": "code",
   "execution_count": 17,
   "id": "bb639377-aa23-450d-b873-8870e2bf4221",
   "metadata": {},
   "outputs": [
    {
     "name": "stdout",
     "output_type": "stream",
     "text": [
      "[11 24 65  2]\n"
     ]
    }
   ],
   "source": [
    "print(n1)"
   ]
  },
  {
   "cell_type": "markdown",
   "id": "c319bb96-67af-465f-a08b-3baa1ba4bbcc",
   "metadata": {},
   "source": [
    "# shape"
   ]
  },
  {
   "cell_type": "code",
   "execution_count": 51,
   "id": "73932a19-8f88-44a4-8a54-e428571ab60f",
   "metadata": {},
   "outputs": [],
   "source": [
    "arr=np.array([[1,2,3],[6,7,9]])"
   ]
  },
  {
   "cell_type": "code",
   "execution_count": 52,
   "id": "852f20b0-f8cd-44ee-93c3-b85253108405",
   "metadata": {},
   "outputs": [
    {
     "name": "stdout",
     "output_type": "stream",
     "text": [
      "(2, 3)\n"
     ]
    }
   ],
   "source": [
    "print(arr.shape)"
   ]
  },
  {
   "cell_type": "code",
   "execution_count": 53,
   "id": "28abccc7-befc-4303-8b5a-ef1b39591a60",
   "metadata": {},
   "outputs": [
    {
     "name": "stdout",
     "output_type": "stream",
     "text": [
      "[[1 2 3]\n",
      " [6 7 9]]\n"
     ]
    }
   ],
   "source": [
    "print(arr)"
   ]
  },
  {
   "cell_type": "markdown",
   "id": "c16d98f4-76db-4bbd-9ef3-e60bd33d7030",
   "metadata": {},
   "source": [
    "# reshape"
   ]
  },
  {
   "cell_type": "code",
   "execution_count": 58,
   "id": "97cc57c9-0c4b-4814-be1a-05f4c450264c",
   "metadata": {},
   "outputs": [],
   "source": [
    "arr=np.array([1,2,3,45,7,8,9,10,11])"
   ]
  },
  {
   "cell_type": "code",
   "execution_count": 59,
   "id": "18760f05-36e7-45de-9b8c-9edaf03d5213",
   "metadata": {},
   "outputs": [
    {
     "name": "stdout",
     "output_type": "stream",
     "text": [
      "1\n"
     ]
    }
   ],
   "source": [
    "print(arr.ndim)"
   ]
  },
  {
   "cell_type": "code",
   "execution_count": 60,
   "id": "6c1b6892-54c8-4957-9e16-00c02f81b4df",
   "metadata": {},
   "outputs": [],
   "source": [
    "arr1=arr.reshape(3,3)"
   ]
  },
  {
   "cell_type": "code",
   "execution_count": 61,
   "id": "b4d238d5-9dad-4b59-bfb4-f500bff3650a",
   "metadata": {},
   "outputs": [
    {
     "name": "stdout",
     "output_type": "stream",
     "text": [
      "[[ 1  2  3]\n",
      " [45  7  8]\n",
      " [ 9 10 11]]\n"
     ]
    }
   ],
   "source": [
    "print(arr1)"
   ]
  },
  {
   "cell_type": "code",
   "execution_count": 62,
   "id": "8a24be8f-90c8-4c37-8437-41855da1ea57",
   "metadata": {},
   "outputs": [],
   "source": [
    "l=[1,2,34]"
   ]
  },
  {
   "cell_type": "code",
   "execution_count": 64,
   "id": "865282a1-97e7-4472-b53d-4e3b129538a6",
   "metadata": {},
   "outputs": [
    {
     "name": "stdout",
     "output_type": "stream",
     "text": [
      "1\n",
      "2\n",
      "34\n"
     ]
    }
   ],
   "source": [
    "for i in l:\n",
    "    print(i)"
   ]
  },
  {
   "cell_type": "markdown",
   "id": "d03eb07a-dbed-4dac-a48a-e85c09949592",
   "metadata": {},
   "source": [
    " # iterating"
   ]
  },
  {
   "cell_type": "code",
   "execution_count": 65,
   "id": "a1522481-d519-4eb0-8851-1fe98869ef86",
   "metadata": {},
   "outputs": [],
   "source": [
    "n=np.array([1,2,3,4,5,6,7])"
   ]
  },
  {
   "cell_type": "code",
   "execution_count": 66,
   "id": "ad1e89a3-03cf-43ae-b2e3-a086c26222eb",
   "metadata": {},
   "outputs": [
    {
     "name": "stdout",
     "output_type": "stream",
     "text": [
      "1\n",
      "2\n",
      "3\n",
      "4\n",
      "5\n",
      "6\n",
      "7\n"
     ]
    }
   ],
   "source": [
    "for i in n:\n",
    "    print(i)"
   ]
  },
  {
   "cell_type": "markdown",
   "id": "6427eb5e-caf0-42c9-ac56-9d3588b1f541",
   "metadata": {},
   "source": [
    "# concat,stack"
   ]
  },
  {
   "cell_type": "code",
   "execution_count": 67,
   "id": "817ede60-437b-4d6a-af0e-de8c86bb0b75",
   "metadata": {},
   "outputs": [],
   "source": [
    "n1=np.array([1,2,3,4,5])"
   ]
  },
  {
   "cell_type": "code",
   "execution_count": 68,
   "id": "687de712-7383-4ba8-84ee-d5cf23816a79",
   "metadata": {},
   "outputs": [],
   "source": [
    "n2=np.array([6,7,8,9,10])"
   ]
  },
  {
   "cell_type": "code",
   "execution_count": 69,
   "id": "b40dffed-4861-4e88-b088-8b930d06904a",
   "metadata": {},
   "outputs": [
    {
     "name": "stdout",
     "output_type": "stream",
     "text": [
      "[ 1  2  3  4  5  6  7  8  9 10]\n"
     ]
    }
   ],
   "source": [
    "n3=np.concatenate((n1,n2))\n",
    "print(n3)"
   ]
  },
  {
   "cell_type": "code",
   "execution_count": 70,
   "id": "473efc78-722f-4fec-99bc-3c4c4db566e0",
   "metadata": {},
   "outputs": [],
   "source": [
    "n3=np.array([1,2,3])"
   ]
  },
  {
   "cell_type": "code",
   "execution_count": 71,
   "id": "cd5a3a9e-8937-4c6a-9c6f-5973681de67f",
   "metadata": {},
   "outputs": [],
   "source": [
    "n4=np.array([4,5,6])"
   ]
  },
  {
   "cell_type": "code",
   "execution_count": 73,
   "id": "35d81261-bf44-43dc-9f83-bf716b0f4b13",
   "metadata": {},
   "outputs": [],
   "source": [
    "n5=np.hstack((n3,n4))"
   ]
  },
  {
   "cell_type": "code",
   "execution_count": 74,
   "id": "ad627d77-8b2d-4378-8f1e-e55e1a638928",
   "metadata": {},
   "outputs": [
    {
     "name": "stdout",
     "output_type": "stream",
     "text": [
      "[1 2 3 4 5 6]\n"
     ]
    }
   ],
   "source": [
    "print(n5)"
   ]
  },
  {
   "cell_type": "code",
   "execution_count": 75,
   "id": "4fbe2d0a-0425-4471-a2cd-451b729ccdce",
   "metadata": {},
   "outputs": [
    {
     "name": "stdout",
     "output_type": "stream",
     "text": [
      "[[1 2 3]\n",
      " [4 5 6]]\n"
     ]
    }
   ],
   "source": [
    "n6=np.vstack((n3,n4))\n",
    "print(n6)"
   ]
  },
  {
   "cell_type": "markdown",
   "id": "8926af33-6129-40e2-b5b6-c35b80014698",
   "metadata": {},
   "source": [
    "# split"
   ]
  },
  {
   "cell_type": "code",
   "execution_count": 76,
   "id": "5c457a7a-0be2-4312-99c4-c98017b521ed",
   "metadata": {},
   "outputs": [],
   "source": [
    "a=np.array([1,2,3,4,5,6])"
   ]
  },
  {
   "cell_type": "code",
   "execution_count": 77,
   "id": "bb7f6ab4-dbcb-4eb2-99f2-87223299a88f",
   "metadata": {},
   "outputs": [],
   "source": [
    "newa=np.array_split(a,3)"
   ]
  },
  {
   "cell_type": "code",
   "execution_count": 78,
   "id": "54ff6df6-7545-4e3e-92dd-de75bde61d35",
   "metadata": {},
   "outputs": [
    {
     "name": "stdout",
     "output_type": "stream",
     "text": [
      "[array([1, 2]), array([3, 4]), array([5, 6])]\n"
     ]
    }
   ],
   "source": [
    "print(newa)"
   ]
  },
  {
   "cell_type": "code",
   "execution_count": null,
   "id": "8211f765-aa50-49cf-a403-491220608aea",
   "metadata": {},
   "outputs": [],
   "source": []
  }
 ],
 "metadata": {
  "kernelspec": {
   "display_name": "Python 3 (ipykernel)",
   "language": "python",
   "name": "python3"
  },
  "language_info": {
   "codemirror_mode": {
    "name": "ipython",
    "version": 3
   },
   "file_extension": ".py",
   "mimetype": "text/x-python",
   "name": "python",
   "nbconvert_exporter": "python",
   "pygments_lexer": "ipython3",
   "version": "3.13.5"
  }
 },
 "nbformat": 4,
 "nbformat_minor": 5
}
